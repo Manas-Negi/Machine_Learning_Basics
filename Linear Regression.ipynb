{
  "nbformat": 4,
  "nbformat_minor": 0,
  "metadata": {
    "colab": {
      "provenance": [],
      "gpuType": "T4",
      "authorship_tag": "ABX9TyNRs5Dz9LGqOqVfVGWl13PC",
      "include_colab_link": true
    },
    "kernelspec": {
      "name": "python3",
      "display_name": "Python 3"
    },
    "language_info": {
      "name": "python"
    },
    "accelerator": "GPU"
  },
  "cells": [
    {
      "cell_type": "markdown",
      "metadata": {
        "id": "view-in-github",
        "colab_type": "text"
      },
      "source": [
        "<a href=\"https://colab.research.google.com/github/Manas-Negi/Machine_Learning_Basics/blob/main/Linear%20Regression.ipynb\" target=\"_parent\"><img src=\"https://colab.research.google.com/assets/colab-badge.svg\" alt=\"Open In Colab\"/></a>"
      ]
    },
    {
      "cell_type": "markdown",
      "source": [
        "Linear Regression Algorithm\n",
        "\n",
        "Let us first import the necessary dependencies"
      ],
      "metadata": {
        "id": "eFhfOXYNa9xC"
      }
    },
    {
      "cell_type": "code",
      "execution_count": 2,
      "metadata": {
        "id": "QAlmB9saZfTk"
      },
      "outputs": [],
      "source": [
        "import numpy as np\n",
        "import matplotlib.pyplot as plt\n",
        "from sklearn.model_selection import train_test_split\n",
        "from sklearn.linear_model import LinearRegression"
      ]
    },
    {
      "cell_type": "markdown",
      "source": [
        "Now since we don't have a previous dataset to help with this, let us generate a synthetic dataset with random numbers"
      ],
      "metadata": {
        "id": "MSyLy3g9bJUJ"
      }
    },
    {
      "cell_type": "code",
      "source": [
        "np.random.seed(0)\n",
        "X = np.random.rand(50,1) * 2\n",
        "y = 2 * X +  1 + np.random.randn(50,1) * 2"
      ],
      "metadata": {
        "id": "LSrx0JExa8_P"
      },
      "execution_count": 3,
      "outputs": []
    },
    {
      "cell_type": "markdown",
      "source": [
        "np.random.seed(0): This line sets the random seed for the random number generator. Setting the seed ensures that the random numbers generated are reproducible across different runs of the program.\n",
        "\n",
        "X = np.random.rand(50, 1) * 10: Here, we're generating a numpy array X with 50 rows and 1 column. The np.random.rand function generates random numbers from a uniform distribution between 0 (inclusive) and 1 (exclusive). By multiplying by 10, we scale these random numbers to be between 0 and 10.\n",
        "\n",
        "y = 2 * X + 1 + np.random.randn(50, 1) * 2: This line generates the corresponding y values for each X value. We're creating a linear relationship with the equation y = 2 * X + 1. The additional term np.random.randn(50, 1) * 2 adds some random noise to the y values. The np.random.randn function generates random numbers from a standard normal distribution (mean 0 and standard deviation 1), which are then scaled by 2 to increase the noise level."
      ],
      "metadata": {
        "id": "cN4P5ayEevNJ"
      }
    },
    {
      "cell_type": "markdown",
      "source": [
        "The np.random.rand function generates random numbers from a uniform distribution between 0 (inclusive) and 1 (exclusive), while the np.random.randn function generates random numbers from a standard normal distribution (also known as Gaussian distribution) with a mean of 0 and a standard deviation of 1."
      ],
      "metadata": {
        "id": "wNJBQZPweyYY"
      }
    },
    {
      "cell_type": "code",
      "source": [
        "# Split data into training and testing sets\n",
        "X_train, X_test, y_train, y_test = train_test_split(X, y, test_size=0.2, random_state=42)\n",
        "\n",
        "# For splitting a given dataset into X_train, X_test, y_train, y_test => The exact format must be followed, i.e X_train, X_test, y_train, y_test\n",
        "# Similarly, parameters inside train_test_split must be in the above order as well\n",
        "# test_size = 0.2 means 20% of the data will be test data"
      ],
      "metadata": {
        "id": "2UsD_XHJeuYR"
      },
      "execution_count": 6,
      "outputs": []
    },
    {
      "cell_type": "markdown",
      "source": [
        "The specific value of 42 used for random_state in machine learning code is often chosen more for its humorous and cultural significance rather than any inherent technical advantage. It's a reference to \"The Hitchhiker's Guide to the Galaxy,\" a science fiction series by Douglas Adams, where the number 42 is humorously referred to as the \"Answer to the Ultimate Question of Life, the Universe, and Everything.\"\n",
        "\n",
        "In practice, the choice of the value for random_state is not particularly important as long as it's a fixed value. Setting it to any constant integer will ensure that your code generates the same random splits every time it's run, which can be useful for reproducibility. This is especially important for debugging, testing, and comparing results across different runs."
      ],
      "metadata": {
        "id": "FgURIuZVfXDA"
      }
    },
    {
      "cell_type": "code",
      "source": [
        "# Let us now create the model with the X and y training labels after which we shall test it with X_test labels and compare output with y_test labels\n",
        "model = LinearRegression()\n",
        "model.fit(X_train,y_train)"
      ],
      "metadata": {
        "colab": {
          "base_uri": "https://localhost:8080/",
          "height": 74
        },
        "id": "VRjO8gapfToV",
        "outputId": "7cbaec41-bc79-4d5f-cd8e-7a79af5cf5b6"
      },
      "execution_count": 5,
      "outputs": [
        {
          "output_type": "execute_result",
          "data": {
            "text/plain": [
              "LinearRegression()"
            ],
            "text/html": [
              "<style>#sk-container-id-1 {color: black;background-color: white;}#sk-container-id-1 pre{padding: 0;}#sk-container-id-1 div.sk-toggleable {background-color: white;}#sk-container-id-1 label.sk-toggleable__label {cursor: pointer;display: block;width: 100%;margin-bottom: 0;padding: 0.3em;box-sizing: border-box;text-align: center;}#sk-container-id-1 label.sk-toggleable__label-arrow:before {content: \"▸\";float: left;margin-right: 0.25em;color: #696969;}#sk-container-id-1 label.sk-toggleable__label-arrow:hover:before {color: black;}#sk-container-id-1 div.sk-estimator:hover label.sk-toggleable__label-arrow:before {color: black;}#sk-container-id-1 div.sk-toggleable__content {max-height: 0;max-width: 0;overflow: hidden;text-align: left;background-color: #f0f8ff;}#sk-container-id-1 div.sk-toggleable__content pre {margin: 0.2em;color: black;border-radius: 0.25em;background-color: #f0f8ff;}#sk-container-id-1 input.sk-toggleable__control:checked~div.sk-toggleable__content {max-height: 200px;max-width: 100%;overflow: auto;}#sk-container-id-1 input.sk-toggleable__control:checked~label.sk-toggleable__label-arrow:before {content: \"▾\";}#sk-container-id-1 div.sk-estimator input.sk-toggleable__control:checked~label.sk-toggleable__label {background-color: #d4ebff;}#sk-container-id-1 div.sk-label input.sk-toggleable__control:checked~label.sk-toggleable__label {background-color: #d4ebff;}#sk-container-id-1 input.sk-hidden--visually {border: 0;clip: rect(1px 1px 1px 1px);clip: rect(1px, 1px, 1px, 1px);height: 1px;margin: -1px;overflow: hidden;padding: 0;position: absolute;width: 1px;}#sk-container-id-1 div.sk-estimator {font-family: monospace;background-color: #f0f8ff;border: 1px dotted black;border-radius: 0.25em;box-sizing: border-box;margin-bottom: 0.5em;}#sk-container-id-1 div.sk-estimator:hover {background-color: #d4ebff;}#sk-container-id-1 div.sk-parallel-item::after {content: \"\";width: 100%;border-bottom: 1px solid gray;flex-grow: 1;}#sk-container-id-1 div.sk-label:hover label.sk-toggleable__label {background-color: #d4ebff;}#sk-container-id-1 div.sk-serial::before {content: \"\";position: absolute;border-left: 1px solid gray;box-sizing: border-box;top: 0;bottom: 0;left: 50%;z-index: 0;}#sk-container-id-1 div.sk-serial {display: flex;flex-direction: column;align-items: center;background-color: white;padding-right: 0.2em;padding-left: 0.2em;position: relative;}#sk-container-id-1 div.sk-item {position: relative;z-index: 1;}#sk-container-id-1 div.sk-parallel {display: flex;align-items: stretch;justify-content: center;background-color: white;position: relative;}#sk-container-id-1 div.sk-item::before, #sk-container-id-1 div.sk-parallel-item::before {content: \"\";position: absolute;border-left: 1px solid gray;box-sizing: border-box;top: 0;bottom: 0;left: 50%;z-index: -1;}#sk-container-id-1 div.sk-parallel-item {display: flex;flex-direction: column;z-index: 1;position: relative;background-color: white;}#sk-container-id-1 div.sk-parallel-item:first-child::after {align-self: flex-end;width: 50%;}#sk-container-id-1 div.sk-parallel-item:last-child::after {align-self: flex-start;width: 50%;}#sk-container-id-1 div.sk-parallel-item:only-child::after {width: 0;}#sk-container-id-1 div.sk-dashed-wrapped {border: 1px dashed gray;margin: 0 0.4em 0.5em 0.4em;box-sizing: border-box;padding-bottom: 0.4em;background-color: white;}#sk-container-id-1 div.sk-label label {font-family: monospace;font-weight: bold;display: inline-block;line-height: 1.2em;}#sk-container-id-1 div.sk-label-container {text-align: center;}#sk-container-id-1 div.sk-container {/* jupyter's `normalize.less` sets `[hidden] { display: none; }` but bootstrap.min.css set `[hidden] { display: none !important; }` so we also need the `!important` here to be able to override the default hidden behavior on the sphinx rendered scikit-learn.org. See: https://github.com/scikit-learn/scikit-learn/issues/21755 */display: inline-block !important;position: relative;}#sk-container-id-1 div.sk-text-repr-fallback {display: none;}</style><div id=\"sk-container-id-1\" class=\"sk-top-container\"><div class=\"sk-text-repr-fallback\"><pre>LinearRegression()</pre><b>In a Jupyter environment, please rerun this cell to show the HTML representation or trust the notebook. <br />On GitHub, the HTML representation is unable to render, please try loading this page with nbviewer.org.</b></div><div class=\"sk-container\" hidden><div class=\"sk-item\"><div class=\"sk-estimator sk-toggleable\"><input class=\"sk-toggleable__control sk-hidden--visually\" id=\"sk-estimator-id-1\" type=\"checkbox\" checked><label for=\"sk-estimator-id-1\" class=\"sk-toggleable__label sk-toggleable__label-arrow\">LinearRegression</label><div class=\"sk-toggleable__content\"><pre>LinearRegression()</pre></div></div></div></div></div>"
            ]
          },
          "metadata": {},
          "execution_count": 5
        }
      ]
    },
    {
      "cell_type": "code",
      "source": [
        "# Let's make predictions\n",
        "y_pred = model.predict(X_test)"
      ],
      "metadata": {
        "id": "cmi7GcSngGIf"
      },
      "execution_count": 7,
      "outputs": []
    },
    {
      "cell_type": "markdown",
      "source": [
        "Now let us use matplotlib to plot the graph of the Linear Regression that we obtained"
      ],
      "metadata": {
        "id": "OEfmczAIjflo"
      }
    },
    {
      "cell_type": "code",
      "source": [
        "plt.scatter(X_test, y_test, color='blue', label='Actual Data')\n",
        "plt.plot(X_test, y_pred, color='red', label='Fitted Line')\n",
        "plt.xlabel('X')\n",
        "plt.ylabel('y')\n",
        "plt.title('Linear Regression')\n",
        "plt.legend()\n",
        "plt.show()"
      ],
      "metadata": {
        "colab": {
          "base_uri": "https://localhost:8080/",
          "height": 472
        },
        "id": "5kjGczCbjaL4",
        "outputId": "c4f0b948-59a2-4259-935f-26fb25b60526"
      },
      "execution_count": 8,
      "outputs": [
        {
          "output_type": "display_data",
          "data": {
            "text/plain": [
              "<Figure size 640x480 with 1 Axes>"
            ],
            "image/png": "[encoded data removed]"
          },
          "metadata": {}
        }
      ]
    },
    {
      "cell_type": "markdown",
      "source": [
        "```python\n",
        "plt.scatter(X_test, y_test, color='blue', label='Actual Data')\n",
        "```\n",
        "\n",
        "- `plt.scatter(X_test, y_test, color='blue', label='Actual Data')`: This line creates a scatter plot using the `matplotlib` library. It plots the actual test data points. The `X_test` array contains the input feature values, and the `y_test` array contains the corresponding actual output labels (ground truth). The points will be plotted as blue dots on the graph, and `label='Actual Data'` is a label that will be used in the plot legend to describe this data series.\n",
        "\n",
        "```python\n",
        "plt.plot(X_test, y_pred, color='red', label='Fitted Line')\n",
        "```\n",
        "\n",
        "- `plt.plot(X_test, y_pred, color='red', label='Fitted Line')`: This line creates a line plot. It plots the predicted values (`y_pred`) against the input feature values (`X_test`). The predicted values are the output of your trained linear regression model. The line will be plotted in red, and `label='Fitted Line'` is a label for the plot legend to describe this line.\n",
        "\n",
        "```python\n",
        "plt.xlabel('X')\n",
        "plt.ylabel('y')\n",
        "```\n",
        "\n",
        "- `plt.xlabel('X')`: Sets the label for the x-axis of the plot. In this case, it's just labeling the input feature.\n",
        "- `plt.ylabel('y')`: Sets the label for the y-axis of the plot. It's labeling the predicted or actual output.\n",
        "\n",
        "```python\n",
        "plt.title('Linear Regression')\n",
        "```\n",
        "\n",
        "- `plt.title('Linear Regression')`: Sets the title of the plot to \"Linear Regression.\"\n",
        "\n",
        "```python\n",
        "plt.legend()\n",
        "```\n",
        "\n",
        "- `plt.legend()`: Adds a legend to the plot. The legend provides labels for the different elements in the plot (in this case, the \"Actual Data\" scatter plot and the \"Fitted Line\" plot).\n",
        "\n",
        "```python\n",
        "plt.show()\n",
        "```\n",
        "\n",
        "- `plt.show()`: Finally, this command displays the plot on the screen. Without this line, the plot would not be shown.\n",
        "\n",
        "Putting it all together, these lines of code create a plot that displays the scatter plot of the actual data points (in blue) and overlays it with a red line representing the fitted line from your linear regression model. The x-axis represents the input feature values (`X_test`), and the y-axis represents the predicted or actual output values (`y_test` for actual data and `y_pred` for the fitted line). The plot includes labels and a legend for clarity and interpretation."
      ],
      "metadata": {
        "id": "EuPGdR6JkQxg"
      }
    }
  ]
}